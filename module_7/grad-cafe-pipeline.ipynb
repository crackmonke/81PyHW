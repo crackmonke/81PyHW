{
 "cells": [
  {
   "cell_type": "code",
   "execution_count": null,
   "id": "fd845505",
   "metadata": {},
   "outputs": [
    {
     "name": "stdout",
     "output_type": "stream",
     "text": [
      "Downloaded 'applicant_data.json' from S3 bucket 'grad-cafe-spg'.\n",
      "Saved renamed version as 'applicant_data_SM.json'.\n"
     ]
    }
   ],
   "source": [
    "import boto3\n",
    "import json\n",
    "\n",
    "# Set up S3 client using IAM role\n",
    "s3 = boto3.client('s3')\n",
    "\n",
    "# Define the S3 bucket and object key\n",
    "bucket_name = 'grad-cafe-spg'         \n",
    "s3_key = 'applicant_data.json'           # Now matches your S3 object\n",
    "local_filename = 'applicant_data.json'   # Save locally under the same name\n",
    "output_filename = 'applicant_data_SM.json'  # Save again under the renamed name\n",
    "\n",
    "# Download the file from S3\n",
    "s3.download_file(bucket_name, s3_key, local_filename)\n",
    "print(f\"Downloaded '{s3_key}' from S3 bucket '{bucket_name}'.\")\n",
    "\n",
    "# Load it\n",
    "with open(local_filename, 'r', encoding='utf-8') as f:\n",
    "    data = json.load(f)\n",
    "\n",
    "# Save a second copy with new name\n",
    "with open(output_filename, 'w', encoding='utf-8') as f:\n",
    "    json.dump(data, f, indent=2)\n",
    "print(f\"Saved renamed version as '{output_filename}'.\")\n",
    "\n",
    "\n"
   ]
  },
  {
   "cell_type": "code",
   "execution_count": null,
   "id": "e6baec81",
   "metadata": {},
   "outputs": [],
   "source": []
  }
 ],
 "metadata": {
  "kernelspec": {
   "display_name": "conda_python3",
   "language": "python",
   "name": "conda_python3"
  },
  "language_info": {
   "codemirror_mode": {
    "name": "ipython",
    "version": 3
   },
   "file_extension": ".py",
   "mimetype": "text/x-python",
   "name": "python",
   "nbconvert_exporter": "python",
   "pygments_lexer": "ipython3",
   "version": "3.10.18"
  }
 },
 "nbformat": 4,
 "nbformat_minor": 5
}
