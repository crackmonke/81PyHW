{
 "cells": [
  {
   "cell_type": "code",
   "execution_count": null,
   "id": "fd845505",
   "metadata": {},
   "outputs": [
    {
     "name": "stdout",
     "output_type": "stream",
     "text": [
      "Downloaded 'applicant_data.json' from S3 bucket 'grad-cafe-spg'.\n",
      "Saved renamed version as 'applicant_data_SM.json'.\n"
     ]
    }
   ],
   "source": [
    "\"\"\"Pipeline to download and rename applicant data from S3.\"\"\"\n",
    "\n",
    "import json\n",
    "import boto3\n",
    "\n",
    "# Set up S3 client using IAM role\n",
    "s3 = boto3.client('s3')\n",
    "\n",
    "# Define the S3 bucket and object key\n",
    "BUCKET_NAME = 'grad-cafe-spg'\n",
    "S3_KEY = 'applicant_data.json'\n",
    "LOCAL_FILENAME = 'applicant_data.json'\n",
    "OUTPUT_FILENAME = 'applicant_data_SM.json'\n",
    "\n",
    "# Download the file from S3\n",
    "s3.download_file(BUCKET_NAME, S3_KEY, LOCAL_FILENAME)\n",
    "print(f\"Downloaded '{S3_KEY}' from S3 bucket '{BUCKET_NAME}'.\")\n",
    "\n",
    "# Load it\n",
    "with open(LOCAL_FILENAME, 'r', encoding='utf-8') as f:\n",
    "    data = json.load(f)\n",
    "\n",
    "# Save a second copy with new name\n",
    "with open(OUTPUT_FILENAME, 'w', encoding='utf-8') as f:\n",
    "    json.dump(data, f, indent=2)\n",
    "print(f\"Saved renamed version as '{OUTPUT_FILENAME}'.\")"
   ]
  },
  {
   "cell_type": "code",
   "execution_count": null,
   "id": "e6baec81",
   "metadata": {},
   "outputs": [],
   "source": []
  }
 ],
 "metadata": {
  "kernelspec": {
   "display_name": "conda_python3",
   "language": "python",
   "name": "conda_python3"
  },
  "language_info": {
   "codemirror_mode": {
    "name": "ipython",
    "version": 3
   },
   "file_extension": ".py",
   "mimetype": "text/x-python",
   "name": "python",
   "nbconvert_exporter": "python",
   "pygments_lexer": "ipython3",
   "version": "3.10.18"
  }
 },
 "nbformat": 4,
 "nbformat_minor": 5
}
